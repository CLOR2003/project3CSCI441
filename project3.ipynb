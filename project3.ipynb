{
  "nbformat": 4,
  "nbformat_minor": 0,
  "metadata": {
    "colab": {
      "provenance": [],
      "toc_visible": true,
      "authorship_tag": "ABX9TyNIxhaKypi/LA+QC3z6TO55",
      "include_colab_link": true
    },
    "kernelspec": {
      "name": "python3",
      "display_name": "Python 3"
    },
    "language_info": {
      "name": "python"
    }
  },
  "cells": [
    {
      "cell_type": "markdown",
      "metadata": {
        "id": "view-in-github",
        "colab_type": "text"
      },
      "source": [
        "<a href=\"https://colab.research.google.com/github/CLOR2003/project3CSCI441/blob/main/project3.ipynb\" target=\"_parent\"><img src=\"https://colab.research.google.com/assets/colab-badge.svg\" alt=\"Open In Colab\"/></a>"
      ]
    },
    {
      "cell_type": "markdown",
      "source": [
        "# Project 3: German Credit Risk using MLP's and KERAS\n",
        "## Team 3: Chakong, Luis, Zach\n",
        "## Date: 11/20/2024"
      ],
      "metadata": {
        "id": "RL3qdlHgsJVG"
      }
    },
    {
      "cell_type": "markdown",
      "source": [
        "### Getting the Data"
      ],
      "metadata": {
        "id": "hlfFSZaxsdUw"
      }
    },
    {
      "cell_type": "markdown",
      "source": [
        "### Data Exploration"
      ],
      "metadata": {
        "id": "HuBUWBqZsg0C"
      }
    },
    {
      "cell_type": "markdown",
      "source": [
        "#### Background and Insights"
      ],
      "metadata": {
        "id": "9SKR177wtp6-"
      }
    },
    {
      "cell_type": "markdown",
      "source": [
        "#### Peeking"
      ],
      "metadata": {
        "id": "b7WLe5IjtuAb"
      }
    },
    {
      "cell_type": "markdown",
      "source": [
        "#### Data Types"
      ],
      "metadata": {
        "id": "XwBXs-lgt0tS"
      }
    },
    {
      "cell_type": "markdown",
      "source": [
        "#### Missing Values"
      ],
      "metadata": {
        "id": "euYvuC4Ut7An"
      }
    },
    {
      "cell_type": "markdown",
      "source": [
        "#### Outliers"
      ],
      "metadata": {
        "id": "Xvu0HQKbt-Bm"
      }
    },
    {
      "cell_type": "markdown",
      "source": [
        "### Preprocessing"
      ],
      "metadata": {
        "id": "jckjztbislxy"
      }
    },
    {
      "cell_type": "markdown",
      "source": [
        "#### Dealing with Missing Values"
      ],
      "metadata": {
        "id": "CENeMJtHfi1A"
      }
    },
    {
      "cell_type": "markdown",
      "source": [
        "#### Dealing with Outliers"
      ],
      "metadata": {
        "id": "15Ma2u7WfoCx"
      }
    },
    {
      "cell_type": "markdown",
      "source": [
        "#### Scaling"
      ],
      "metadata": {
        "id": "95W1siRQgFQ-"
      }
    },
    {
      "cell_type": "markdown",
      "source": [
        "### Evaluation Plan"
      ],
      "metadata": {
        "id": "07DoLyODss6n"
      }
    },
    {
      "cell_type": "markdown",
      "source": [
        "### Training"
      ],
      "metadata": {
        "id": "n18s4XZXtFdj"
      }
    },
    {
      "cell_type": "markdown",
      "source": [
        "### Results"
      ],
      "metadata": {
        "id": "SWHPzqB-tRvT"
      }
    },
    {
      "cell_type": "markdown",
      "source": [
        "### Conclusion"
      ],
      "metadata": {
        "id": "Ddm9T5xxtUgn"
      }
    }
  ]
}